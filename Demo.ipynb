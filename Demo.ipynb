{
 "cells": [
  {
   "attachments": {},
   "cell_type": "markdown",
   "metadata": {},
   "source": [
    "# CC4MCSLAEnriched\n",
    "\n",
    "In this notebook, we present our approach implementation. Our approach is based on three components, first the annotation, second the abstraction and last the Checker. \n",
    "\n",
    "## Annotation ##"
   ]
  },
  {
   "attachments": {},
   "cell_type": "markdown",
   "metadata": {},
   "source": [
    "First, we define the ontology using owlready2."
   ]
  },
  {
   "cell_type": "code",
   "execution_count": 1,
   "metadata": {},
   "outputs": [
    {
     "name": "stderr",
     "output_type": "stream",
     "text": [
      "* Owlready2 * Warning: optimized Cython parser module 'owlready2_optimized' is not available, defaulting to slower Python implementation\n"
     ]
    }
   ],
   "source": [
    "from owlready2 import * \n",
    "onto = get_ontology('http://test.org/onto.owl')\n",
    "\n",
    "##### Ontology Definition #####\n",
    "with onto: \n",
    "    class stateMachine(Thing):\n",
    "        pass\n",
    "    class State(stateMachine):\n",
    "        pass\n",
    "    class Start(State):\n",
    "        pass\n",
    "    class Execute(State):\n",
    "        pass\n",
    "    class Complete(State):\n",
    "        pass\n",
    "    class Transition(stateMachine):\n",
    "        pass\n",
    "    class eventType(Thing):\n",
    "        pass\n",
    "    class isRelatedTo(ObjectProperty, FunctionalProperty):\n",
    "        domain = [eventType]\n",
    "        range  = [stateMachine]\n",
    "\n",
    "##### Declare event types\n",
    "Service_Create = eventType('Service_Create', isRelatedTo=Start)\n",
    "Service_Remove = eventType('Service_Remove', isRelatedTo=Start)\n",
    "Service_Update = eventType('Service_Update', isRelatedTo=Start)\n",
    "Container_Create = eventType('Container_Create', isRelatedTo=Execute)\n",
    "Container_Destroy = eventType('Container_Destroy', isRelatedTo=Execute)\n",
    "Container_Start = eventType('Container_Start', isRelatedTo=Complete)\n",
    "Container_Stop = eventType('Container_Stop', isRelatedTo=Complete)\n",
    "Ressource_Usage = eventType('Ressource_Usage', isRelatedTo=Transition)\n",
    "\n",
    "onto.save(file='onto.owl', format=\"rdfxml\")"
   ]
  },
  {
   "attachments": {},
   "cell_type": "markdown",
   "metadata": {},
   "source": [
    "Then, we define a function for finding ancestors of indentified event type in event logs."
   ]
  },
  {
   "cell_type": "code",
   "execution_count": null,
   "metadata": {},
   "outputs": [],
   "source": [
    "##### Ancestors Calling #####\n",
    "def search_ancestors(onto, ask):\n",
    "    result = onto.search(iri = \"*{}\".format(ask))\n",
    "    lcStep = str(result[0].isRelatedTo).split('.')[1]\n",
    "    smElt = str(result[0].isRelatedTo.is_a[0]).split('.')[1]\n",
    "    if lcStep == 'Transition':\n",
    "        smElt = 'Transition'\n",
    "        lcStep = 'N/A'\n",
    "    return [smElt, lcStep]"
   ]
  },
  {
   "attachments": {},
   "cell_type": "markdown",
   "metadata": {},
   "source": [
    "Finally, we implement the annotation function of xes format adding the state-machine element and lifecycle step for each event and return an xes file with the annotated events."
   ]
  },
  {
   "cell_type": "code",
   "execution_count": null,
   "metadata": {},
   "outputs": [],
   "source": [
    "#### Pre-processing based on ontology ####\n",
    "import pandas as pd\n",
    "import pm4py\n",
    "\n",
    "#### Import event-logs from\n",
    "dataframe = pd.read_csv('logs.csv', sep=',')\n",
    "dataframe = pm4py.format_dataframe(dataframe, case_id='Resource Name', activity_key='Event-Type', timestamp_key='Timestamp')\n",
    "\n",
    "#### Iterate through event logs ####\n",
    "for idx, row in dataframe.iterrows():\n",
    "    # Search event type in ontology and returns ancestors \n",
    "    smElt, lcStep = search_ancestors(onto, row['Event-Type'])\n",
    "    dataframe.loc[[idx],'smElt'] = smElt\n",
    "    dataframe.loc[[idx],'lcStep'] = lcStep\n",
    "\n",
    "### Export as XES ###\n",
    "event_log = pm4py.convert_to_event_log(dataframe)\n",
    "xes = pm4py.write_xes(event_log, 'exported.xes')"
   ]
  },
  {
   "attachments": {},
   "cell_type": "markdown",
   "metadata": {},
   "source": [
    "### Abstraction\n",
    "\n",
    "Based on the annotated event logs, we abstract state-machine. "
   ]
  }
 ],
 "metadata": {
  "kernelspec": {
   "display_name": "Python 3",
   "language": "python",
   "name": "python3"
  },
  "language_info": {
   "codemirror_mode": {
    "name": "ipython",
    "version": 3
   },
   "file_extension": ".py",
   "mimetype": "text/x-python",
   "name": "python",
   "nbconvert_exporter": "python",
   "pygments_lexer": "ipython3",
   "version": "3.11.1"
  },
  "orig_nbformat": 4,
  "vscode": {
   "interpreter": {
    "hash": "7d1ea9fb40c093137e5631ea40405a634864414780e4b5725c09d6f101604b5d"
   }
  }
 },
 "nbformat": 4,
 "nbformat_minor": 2
}
